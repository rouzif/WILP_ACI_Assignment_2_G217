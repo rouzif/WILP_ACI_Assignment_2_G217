{
 "cells": [
  {
   "metadata": {},
   "cell_type": "markdown",
   "source": "# ACI Assignment 2 - Problem Statement 10",
   "id": "8a77807f92f26ee"
  },
  {
   "metadata": {},
   "cell_type": "markdown",
   "source": "## Set up",
   "id": "15f0f77b582fcd0a"
  },
  {
   "metadata": {
    "ExecuteTime": {
     "end_time": "2025-10-25T07:57:22.847364Z",
     "start_time": "2025-10-25T07:57:22.797673Z"
    }
   },
   "cell_type": "code",
   "source": [
    "# Imports\n",
    "\n",
    "import numpy as np"
   ],
   "id": "bf5e2b81a9a8b22c",
   "outputs": [],
   "execution_count": 1
  },
  {
   "metadata": {
    "ExecuteTime": {
     "end_time": "2025-10-25T07:57:22.851959Z",
     "start_time": "2025-10-25T07:57:22.850518Z"
    }
   },
   "cell_type": "code",
   "source": [
    "# Configuration\n",
    "\n",
    "grid_size = (5, 5)  # Grid size for the game\n",
    "obj_num_cons = 4  # Number of consecutive entries required for win"
   ],
   "id": "fbc121e30a2defb3",
   "outputs": [],
   "execution_count": 2
  },
  {
   "metadata": {},
   "cell_type": "markdown",
   "source": [
    "Data Representation\n",
    "\n",
    "Grid is represented as a numpy array with the following convention:\n",
    "\n",
    "0 - Represents empty cell\n",
    "1 - Represents coin X played by player 1\n",
    "2 - Represents coin Y played by player 2"
   ],
   "id": "87f2f1f3a18c85e3"
  },
  {
   "metadata": {},
   "cell_type": "markdown",
   "source": "## Functions",
   "id": "2d01bc86432f7638"
  },
  {
   "metadata": {
    "ExecuteTime": {
     "end_time": "2025-10-25T08:02:17.980287Z",
     "start_time": "2025-10-25T08:02:17.974632Z"
    }
   },
   "cell_type": "code",
   "source": [
    "\n",
    "# Generating grid\n",
    "def generate_empty_grid(size):\n",
    "\n",
    "    \"\"\"\n",
    "    Generate an empty grid of size size.\n",
    "    \"\"\"\n",
    "\n",
    "    grid = np.zeros(size, dtype=int)\n",
    "\n",
    "    return grid\n",
    "\n",
    "# Printing grid\n",
    "def print_grid(grid):\n",
    "\n",
    "    \"\"\"\n",
    "    Print the grid given\n",
    "    \"\"\"\n",
    "\n",
    "    nrows = grid.shape[0]\n",
    "    ncols = grid.shape[1]\n",
    "\n",
    "    print(' ' + '___ ' * ncols)\n",
    "    for row in range(nrows):\n",
    "        line = '|'\n",
    "        for col in range(ncols):\n",
    "            if grid[row, col] == 0:\n",
    "                print_char = '_'\n",
    "            elif grid[row, col] == 1:\n",
    "                print_char = 'X'\n",
    "            elif grid[row, col] == 2:\n",
    "                print_char = 'T'\n",
    "            else:\n",
    "                raise Exception('Invalid grid!')\n",
    "            line += f'_{print_char}_|'\n",
    "            # print(f'_{print_char}_|')\n",
    "        print(line)\n",
    "\n",
    "\n",
    "    return None\n",
    "\n",
    "# Testing functions\n",
    "\n",
    "sample_grid = generate_empty_grid(grid_size)\n",
    "\n",
    "sample_grid[2, 1] = 2\n",
    "sample_grid[3, 1] = 1\n",
    "print_grid(sample_grid)"
   ],
   "id": "3d1bd03ef6267647",
   "outputs": [
    {
     "name": "stdout",
     "output_type": "stream",
     "text": [
      " ___ ___ ___ ___ ___ \n",
      "|___|___|___|___|___|\n",
      "|___|___|___|___|___|\n",
      "|___|_T_|___|___|___|\n",
      "|___|_X_|___|___|___|\n",
      "|___|___|___|___|___|\n"
     ]
    }
   ],
   "execution_count": 10
  }
 ],
 "metadata": {
  "kernelspec": {
   "display_name": "Python 3",
   "language": "python",
   "name": "python3"
  },
  "language_info": {
   "codemirror_mode": {
    "name": "ipython",
    "version": 2
   },
   "file_extension": ".py",
   "mimetype": "text/x-python",
   "name": "python",
   "nbconvert_exporter": "python",
   "pygments_lexer": "ipython2",
   "version": "2.7.6"
  }
 },
 "nbformat": 4,
 "nbformat_minor": 5
}
